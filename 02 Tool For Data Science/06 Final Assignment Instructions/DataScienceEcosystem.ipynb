{
 "cells": [
  {
   "cell_type": "markdown",
   "id": "867fdbf1",
   "metadata": {},
   "source": [
    "# Data Science Tools and Ecosystem"
   ]
  },
  {
   "cell_type": "markdown",
   "id": "3098270d",
   "metadata": {},
   "source": [
    "In this notebook, Data Science Tools and Ecosystem are summarized."
   ]
  },
  {
   "cell_type": "markdown",
   "id": "0bf47dca",
   "metadata": {},
   "source": [
    "Some of the popular languages that Data Scientists use are:\n",
    "1. Python\n",
    "2. R\n",
    "3. SQL\n",
    "4. Java\n",
    "5. Scala\n",
    "6. C++\n",
    "7. Julia\n",
    "8. JavaScript"
   ]
  },
  {
   "cell_type": "markdown",
   "id": "0ac743a7",
   "metadata": {},
   "source": [
    "Some of the commonly used libraries used by Data Scientists include:\n",
    "1. Pandas: Provides data structures and tools for data cleaning, manipulation, and analysis.\n",
    "2. NumPy: Based on arrays and matrices, allowing mathematical functions to be applied to arrays.\n",
    "3. Matplotlib: A popular library for creating graphs and plots, with customizable options.\n",
    "4. Seaborn: Based on Matplotlib, generating heat maps, time series, and violin plots.\n",
    "5. Scikit-learn: Contains tools for statistical modeling, including regression, classification, clustering, etc.\n",
    "6. Keras: Allows building standard deep learning models with a high-level interface.\n",
    "7. TensorFlow: A low-level framework for large-scale production of deep learning models.\n",
    "8. PyTorch: Used for experimentation, making it simple for researchers to test ideas."
   ]
  },
  {
   "cell_type": "markdown",
   "id": "d69e4b7e",
   "metadata": {},
   "source": [
    "# Data Science Tools\n",
    "\n",
    "| Term |Usage|\n",
    "| :-:  |:---------------------------------------------|\n",
    "|MySQL | Data management|\n",
    "|Apache AirFlow| Data integration and transformation|\n",
    "|Hue| Data visualization|\n",
    "|TensorFlow.js|Model deployment|"
   ]
  },
  {
   "cell_type": "markdown",
   "id": "68557190",
   "metadata": {},
   "source": [
    "### Below are a few examples of evaluating arithmetic expressions in Python.\n"
   ]
  },
  {
   "cell_type": "code",
   "execution_count": 4,
   "id": "7a18afaa",
   "metadata": {},
   "outputs": [
    {
     "data": {
      "text/plain": [
       "17"
      ]
     },
     "execution_count": 4,
     "metadata": {},
     "output_type": "execute_result"
    }
   ],
   "source": [
    "(3*4)+5"
   ]
  },
  {
   "cell_type": "code",
   "execution_count": 8,
   "id": "608862c9",
   "metadata": {},
   "outputs": [
    {
     "name": "stdout",
     "output_type": "stream",
     "text": [
      "3.3333333333333335\n"
     ]
    }
   ],
   "source": [
    "# This will convert 200 minutes to hours by diving by 60\n",
    "\n",
    "minute = 200\n",
    "hour = minute/60\n",
    "print(hour)"
   ]
  },
  {
   "cell_type": "markdown",
   "id": "38336a89",
   "metadata": {},
   "source": [
    "**Objectives:**\n",
    "- Python\n",
    "- R\n",
    "- SQL\n",
    "- Java"
   ]
  },
  {
   "cell_type": "markdown",
   "id": "2eba2bcf",
   "metadata": {},
   "source": [
    "## Author\n",
    "Yu Hsuan (Sandy) Yang"
   ]
  },
  {
   "cell_type": "code",
   "execution_count": null,
   "id": "4498de54",
   "metadata": {},
   "outputs": [],
   "source": []
  }
 ],
 "metadata": {
  "kernelspec": {
   "display_name": "Python 3 (ipykernel)",
   "language": "python",
   "name": "python3"
  },
  "language_info": {
   "codemirror_mode": {
    "name": "ipython",
    "version": 3
   },
   "file_extension": ".py",
   "mimetype": "text/x-python",
   "name": "python",
   "nbconvert_exporter": "python",
   "pygments_lexer": "ipython3",
   "version": "3.9.13"
  }
 },
 "nbformat": 4,
 "nbformat_minor": 5
}
