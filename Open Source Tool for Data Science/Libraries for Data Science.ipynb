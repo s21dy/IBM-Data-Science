{
 "cells": [
  {
   "cell_type": "markdown",
   "id": "539e9362",
   "metadata": {},
   "source": [
    "# Libraries for Data Science\n",
    "\n",
    "## Overview\n",
    "Libraries are collections of functions and methods that simplify tasks without requiring manual coding.\n",
    "\n",
    "### Scientific Computing Libraries in Python\n",
    "- Pandas: Provides data structures and tools for data cleaning, manipulation, and analysis.\n",
    "- NumPy: Based on arrays and matrices, allowing mathematical functions to be applied to arrays.\n",
    "\n",
    "### Visualization Libraries in Python\n",
    "- Matplotlib: A popular library for creating graphs and plots, with customizable options.\n",
    "- Seaborn: Based on Matplotlib, generating heat maps, time series, and violin plots.\n",
    "\n",
    "### High-Level Machine Learning and Deep Learning Libraries in Python\n",
    "- Scikit-learn: Contains tools for statistical modeling, including regression, classification, clustering, etc.\n",
    "- Keras: Allows building standard deep learning models with a high-level interface.\n",
    "- TensorFlow: A low-level framework for large-scale production of deep learning models.\n",
    "- PyTorch: Used for experimentation, making it simple for researchers to test ideas.\n",
    "\n",
    "### Libraries Used in Other Languages\n",
    "- Apache Spark: A general-purpose cluster-computing framework for processing data in parallel.\n",
    "- Scala Libraries:\n",
    "- Vegas: A Scala library for statistical data visualizations.\n",
    "- Big DL: For deep learning.\n",
    "- R Libraries:\n",
    "- ggplot2: A popular library for data visualization.\n",
    "- Keras and TensorFlow interfaces: Allow interaction with Python libraries."
   ]
  },
  {
   "cell_type": "markdown",
   "id": "b1037608",
   "metadata": {},
   "source": [
    "## Application Program Interfaces (API)\n",
    "\n",
    "### Overview\n",
    "- An API (Application Programming Interface) allows communication between two pieces of software.\n",
    "- It is the part of the library that is visible to the user, while the library contains all the program components.\n",
    "    - Example: Pandas Library\n",
    "    - Pandas is a set of software components that can be used to process data.\n",
    "    - The Pandas API allows communication with the other software components without knowing what happens at the backend.\n",
    "    - The backend can be written in different languages, such as C++.\n",
    "\n",
    "### REST API\n",
    "- REST (Representational State Transfer) APIs allow communication through the internet and access to resources like storage, data, and artificially intelligent algorithms.\n",
    "- The client (your program) sends requests to the resource (web service) via an endpoint.\n",
    "- The client sends requests using HTTP methods, and the resource returns a response using HTTP messages.\n",
    "- The request contains a JSON file with instructions for the operation to be performed.\n",
    "- The response contains the result of the operation in a JSON file.\n",
    "    - Examples of REST APIs\n",
    "    - Watson Text to Speech API: Converts speech to text.\n",
    "    - Watson Language-Translator API: Translates text from one language to another.\n"
   ]
  },
  {
   "cell_type": "markdown",
   "id": "9e96d59c",
   "metadata": {},
   "source": [
    "## Data Sets – Powering Data Science\n",
    "\n",
    "### Definition of a Data Set\n",
    "- A data set is a structured collection of data.\n",
    "- It can include various types of data such as text, numbers, images, audio, or video files.\n",
    "- Tabular data sets are organized in rows and columns, with each row representing an observation and each column containing information about that observation.\n",
    "\n",
    "### Types of Data Ownership\n",
    "- Private Data: Typically contains proprietary or confidential information and is not shared publicly.\n",
    "- Open Data: Made available to the public, often by governments, organizations, or companies, and can be used for various purposes.\n",
    "\n",
    "### Sources of Data\n",
    "- Government Data: Many governments worldwide publish datasets on their websites, covering various topics such as economy, society, healthcare, transportation, and more.\n",
    "- Intergovernmental Organizations: Organizations like the United Nations and the European Union maintain data repositories providing access to a wide range of information.\n",
    "- Online Communities: Platforms like Kaggle provide access to a variety of datasets, and users can contribute their own datasets.\n",
    "\n",
    "### Community Data License Agreement (CDLA)\n",
    "- Created by the Linux Foundation to address the issue of open data distribution and use.\n",
    "- Two licenses were initially created: CDLA-Sharing and CDLA-Permissive.\n",
    "- CDLA-Sharing: Grants permission to use and modify the data, with the requirement to share modified versions under the same license terms.\n",
    "- CDLA-Permissive: Grants permission to use and modify the data, but does not require sharing changes to the data.\n"
   ]
  },
  {
   "cell_type": "code",
   "execution_count": null,
   "id": "a5720d27",
   "metadata": {},
   "outputs": [],
   "source": []
  }
 ],
 "metadata": {
  "kernelspec": {
   "display_name": "Python 3 (ipykernel)",
   "language": "python",
   "name": "python3"
  },
  "language_info": {
   "codemirror_mode": {
    "name": "ipython",
    "version": 3
   },
   "file_extension": ".py",
   "mimetype": "text/x-python",
   "name": "python",
   "nbconvert_exporter": "python",
   "pygments_lexer": "ipython3",
   "version": "3.9.13"
  }
 },
 "nbformat": 4,
 "nbformat_minor": 5
}
