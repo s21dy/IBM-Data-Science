{
 "cells": [
  {
   "cell_type": "markdown",
   "id": "2d00069c",
   "metadata": {},
   "source": [
    "# Categories of Data Science Tools\n",
    "\n",
    "- Data science tasks are divided into six categories: \n",
    "    - data management\n",
    "    - data integration & transformation\n",
    "    - data visualization\n",
    "    - model building\n",
    "    - model deployment\n",
    "    - model monitoring & assessment.\n",
    "- Tools supporting them include: data asset management (organize and manage data), code asset management (version control for code), execution environments (run the code), and development environments (develop and test the code)."
   ]
  },
  {
   "cell_type": "markdown",
   "id": "b5cd4bdc",
   "metadata": {},
   "source": [
    "# Open Source Tools for Data Science\n",
    "\n",
    "\n",
    "- Data management: MySQL, PostgreSQL, MongoDB, Apache CouchDB, Apache Cassandra, Hadoop File System, Ceph, Elasticsearch\n",
    "- Data integration and transformation: Apache AirFlow, KubeFlow, Apache Kafka, Apache Nifi, Apache SparkSQL, NodeRED\n",
    "- Data visualization: Pixie Dust, Hue, Kibana, Apache Superset\n",
    "- Model deployment: Apache PredictionIO, Seldon, Kubernetes, Redhat OpenShift, MLeap, TensorFlow service, TensorFlow lite, TensorFlow.js\n",
    "- Model monitoring: ModelDB, Prometheus, IBM AI Fairness 360, IBM Adversarial Robustness 360 Toolbox, IBM AI Explainability 360\n",
    "- Code asset management: Git, GitHub, GitLab, Bitbucket\n",
    "- Data asset management: Apache Atlas, ODPi Egeria, Kylo\n"
   ]
  },
  {
   "cell_type": "markdown",
   "id": "f51d0320",
   "metadata": {},
   "source": [
    "## Model Development\n",
    "\n",
    "IBM Watson Studio: Engineered as an integrated environment, Watson Studio simplifies developing, training, and deploying models. It boasts support for multiple languages and frameworks, such as Python, R, and TensorFlow, alongside collaboration features, data preparation tools, and versatile deployment options.\n",
    "\n",
    "IBM AutoAI: A notable feature embedded within Watson Studio, IBM AutoAI streamlines the machine learning model construction process. By dynamically exploring various algorithms and hyperparameters, it aims to identify the optimal model for a given dataset.\n",
    "\n",
    "IBM Watson OpenScale: As a platform for overseeing and managing AI models in production, Watson OpenScale plays a pivotal role in ensuring model fairness, explainability, and bias mitigation. It furnishes insights into model performance and drift over time, facilitating informed decision-making.\n",
    "\n",
    "IBM Watson Machine Learning: Watson Machine Learning, available as a service on the IBM Cloud platform, enables users to scale their training and deployment of machine learning models. It seamlessly supports popular frameworks like TensorFlow, PyTorch, and scikit-learn, and offers APIs for seamless integration with other applications."
   ]
  },
  {
   "cell_type": "markdown",
   "id": "900572a6",
   "metadata": {},
   "source": [
    "### Development Envioremnet\n",
    "\n",
    "- Jupyter Notebooks: a popular tool for interactive programming, which supports many languages and allows users to combine code, output, and visualizations in one document.\n",
    "- Jupyter Lab: the next version of Jupyter Notebooks with a more modern interface and the ability to open different types of files.\n",
    "- Apache Zeppelin: similar to Jupyter Notebooks but with integrated plotting capability.\n",
    "- RStudio: a development environment designed for R but can also be used for Python. It offers functionalities like debugging, data exploration, and visualization.\n",
    "- Spyder: a Python IDE similar to RStudio but with less functionality.\n",
    "\n",
    "### Execution environments:\n",
    "\n",
    "- Apache Spark: a popular tool for large-scale data processing. It can handle batch data processing efficiently.\n",
    "- Apache Flink: another tool for large-scale data processing, but it focuses on real-time stream processing.\n",
    "- Ray: a relatively new tool designed for large-scale deep learning model training.\n",
    "\n",
    "### KNIME and Orange \n",
    "- These are visual tools that require no coding knowledge. They are useful for data integration, transformation, visualization, and basic model building."
   ]
  },
  {
   "cell_type": "code",
   "execution_count": null,
   "id": "3af1fdad",
   "metadata": {},
   "outputs": [],
   "source": []
  }
 ],
 "metadata": {
  "kernelspec": {
   "display_name": "Python 3 (ipykernel)",
   "language": "python",
   "name": "python3"
  },
  "language_info": {
   "codemirror_mode": {
    "name": "ipython",
    "version": 3
   },
   "file_extension": ".py",
   "mimetype": "text/x-python",
   "name": "python",
   "nbconvert_exporter": "python",
   "pygments_lexer": "ipython3",
   "version": "3.9.13"
  }
 },
 "nbformat": 4,
 "nbformat_minor": 5
}
