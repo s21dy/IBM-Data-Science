{
 "cells": [
  {
   "cell_type": "markdown",
   "id": "0729bf38",
   "metadata": {},
   "source": [
    "# Reading a file with Open()\n",
    "\n",
    "File handling is an essential aspect of programming, and Python provides built-in functions to interact with files. This guide will explore how to use Python's open function to read the text files (```'.txt'``` files)."
   ]
  },
  {
   "cell_type": "markdown",
   "id": "75455bf8",
   "metadata": {},
   "source": [
    "# Objectives\n",
    "1. Describe how to use the `open()` and `read()` Python functions to open and read the contents of a text file\n",
    "2. Explain how to use the `with` statement in Python\n",
    "3. Describe how to use the `readline()` function in Python\n",
    "4. Explain how to use the `seek()` function to read specific character(s) in a text file\n",
    "\n",
    "## Opening the file\n",
    "There are two methods for opening the file using the file handling concept.\n",
    "\n",
    "1. Using Python's open function\n",
    "- Suppose we have a file named 'file.txt'. Python's open function creates a file object and accesses the data within a text file. It takes two primary parameters:\n",
    "   1.  File path: The file path parameter consists of the filename and directory where the file is located.\n",
    "   \n",
    "   2. Mode: The mode parameter specifies the purpose of opening the file, such as 'r' for reading, 'w' for writing, or 'a' for appending.\n",
    "\n",
    "```python\n",
    "    # Open the file in read ('r') mode\n",
    "    file = open('file.txt', 'r')\n",
    "```\n",
    "\n",
    "This line opens a file named 'file.txt' in read mode ('r'). It returns a file object, which is stored in the variable file. The 'r' mode indicates that the file will be **opened** for reading.\n",
    "\n",
    "\n",
    "2. Using ```with``` statement\n",
    "- To simplify file handling and ensure proper closure of files, Python provides the \"with\" statement. It automatically closes the file when operations within the indented block are completed. This is considered best practice when working with files.\n",
    "\n",
    "```python\n",
    "\n",
    "    # Open the file using 'with' in read ('r') mode\n",
    "    with open('file.txt', 'r') as file:\n",
    "\n",
    "```\n",
    "This line opens a file named 'file.txt' in read mode ('r') using the with statement, which is a context manager. The file is automatically **closed** when the code block inside the with statement exits.\n",
    "\n",
    "### Advantages of using the with statement\n",
    "The key advantages of using the 'with' statement are:\n",
    "\n",
    "- Automatic resource management: The file is guaranteed to be closed when you exit the with block, even if an exception occurs during processing.\n",
    "- Cleaner and more concise code: You don't need to explicitly call close(), making your code more readable and less error-prone."
   ]
  },
  {
   "cell_type": "markdown",
   "id": "fb41ed29",
   "metadata": {},
   "source": [
    "### 1. Reading the entire content\n",
    "\n",
    "```Python\n",
    "\n",
    "# Step 1: Open the file you want to read\n",
    "with open('file.txt', 'r') as file:\n",
    "    # Step 2: Use the read method to read the entire content of the file\n",
    "    file_stuff = file.read()\n",
    "    \n",
    "    print(file_stuff)\n",
    "```\n",
    "\n",
    "### 2. Reading the content line by line\n",
    "\n",
    "The ```readlines``` method reads the file line by line and stores each line as an element in a list. The order of lines in the list corresponds to their order in the file.\n",
    "\n",
    "The ```readline``` method reads individual lines from the file. It can be called multiple times to read subsequent lines.\n",
    "\n",
    "```Python\n",
    "    file = open('file.txt', 'r')\n",
    "\n",
    "    line1 = file.readline()  # Reads the first line\n",
    "    line2 = file.readline()  # Reads the second line\n",
    "```\n",
    "\n",
    "\n",
    "#### Looping through lines: \n",
    "Typically, you use a loop to read lines until no more lines are left. t's like reading the entire book, line by line.\n",
    "\n",
    "```Python\n",
    "    \n",
    "    while True:\n",
    "    line = file.readline()\n",
    "    if not line:\n",
    "        break  # Stop when there are no more lines to read\n",
    "    print(line)\n",
    "    \n",
    "    file.close()\n",
    "    \n",
    "```\n",
    "\n"
   ]
  },
  {
   "cell_type": "markdown",
   "id": "f701f6fb",
   "metadata": {},
   "source": [
    "# Writing Files with Open\n",
    "\n",
    "We can open a file object using the method `write()` to save the text file to a list. To write to a file, the mode argument must be set to w. \n",
    "\n",
    "```python\n",
    "\n",
    "exmp2 = '/Example2.txt'\n",
    "with open(exmp2, 'w') as writefile:\n",
    "    writefile.write(\"This is line A\")\n",
    "```\n",
    "write with mulitiple linie\n",
    "\n",
    "```python\n",
    "with open(exmp2, 'w') as writefile:\n",
    "    writefile.write(\"This is line A\\n\")\n",
    "    writefile.write(\"This is line B\\n\")\n",
    "```\n",
    "\n",
    "write with list \n",
    "\n",
    "```python\n",
    "\n",
    "Lines = [\"This is line A\\n\", \"This is line B\\n\", \"This is line C\\n\"]\n",
    "with open('/Example2.txt', 'w') as writefile:\n",
    "    for line in Lines:\n",
    "        print(line)\n",
    "        writefile.write(line)\n",
    "\n",
    "```\n",
    "\n",
    "However, note that setting the mode to __w__ overwrites all the existing data in the file.\n",
    "\n",
    "## Appending File\n",
    "We can write to files without losing any of the existing data as follows by setting the mode argument to append: **a**.  you can append a new line as follows:\n",
    "\n",
    "```python\n",
    "# Write a new line to text file\n",
    "\n",
    "with open('/Example2.txt', 'a') as testwritefile:\n",
    "    testwritefile.write(\"This is line C\\n\")\n",
    "    testwritefile.write(\"This is line D\\n\")\n",
    "    testwritefile.write(\"This is line E\\n\")\n",
    "\n",
    "```\n",
    "\n",
    "## Additional modes\n",
    "It's fairly ineffecient to open the file in **a** or **w** and then reopening it in **r** to read any lines. Luckily we can access the file in the following modes:\n",
    "- **r+** : Reading and writing. Cannot truncate the file.\n",
    "- **w+** : Writing and reading. Truncates the file.\n",
    "- **a+** : Appending and Reading. Creates a new file, if none exists.\n",
    "You dont have to dwell on the specifics of each mode for this lab. \n"
   ]
  },
  {
   "cell_type": "code",
   "execution_count": 1,
   "id": "c6384020",
   "metadata": {},
   "outputs": [],
   "source": [
    "import numpy as np\n",
    "x = [1,2]\n",
    "y =np.array(x)"
   ]
  },
  {
   "cell_type": "code",
   "execution_count": 4,
   "id": "33d0c806",
   "metadata": {},
   "outputs": [
    {
     "data": {
      "text/plain": [
       "[1, 2, 1, 2]"
      ]
     },
     "execution_count": 4,
     "metadata": {},
     "output_type": "execute_result"
    }
   ],
   "source": [
    "x*2"
   ]
  },
  {
   "cell_type": "code",
   "execution_count": 5,
   "id": "1a27826d",
   "metadata": {},
   "outputs": [
    {
     "data": {
      "text/plain": [
       "array([2, 4])"
      ]
     },
     "execution_count": 5,
     "metadata": {},
     "output_type": "execute_result"
    }
   ],
   "source": [
    "y*2"
   ]
  },
  {
   "cell_type": "code",
   "execution_count": 8,
   "id": "109e6937",
   "metadata": {},
   "outputs": [
    {
     "data": {
      "text/plain": [
       "array([2, 4])"
      ]
     },
     "execution_count": 8,
     "metadata": {},
     "output_type": "execute_result"
    }
   ],
   "source": [
    "x+y"
   ]
  },
  {
   "cell_type": "code",
   "execution_count": 9,
   "id": "40e74c6b",
   "metadata": {},
   "outputs": [
    {
     "data": {
      "text/plain": [
       "2"
      ]
     },
     "execution_count": 9,
     "metadata": {},
     "output_type": "execute_result"
    }
   ],
   "source": [
    "max(x)"
   ]
  },
  {
   "cell_type": "code",
   "execution_count": 10,
   "id": "6b1ae1eb",
   "metadata": {},
   "outputs": [
    {
     "data": {
      "text/plain": [
       "2"
      ]
     },
     "execution_count": 10,
     "metadata": {},
     "output_type": "execute_result"
    }
   ],
   "source": [
    "max(y)"
   ]
  },
  {
   "cell_type": "code",
   "execution_count": 13,
   "id": "6da1aa33",
   "metadata": {},
   "outputs": [],
   "source": [
    "X=np.array([[1,0],[0,1]]) \n",
    "\n",
    "Y=np.array([[2,1],[1,2]]) \n",
    "\n",
    "Z=np.dot(X,Y) "
   ]
  },
  {
   "cell_type": "code",
   "execution_count": 14,
   "id": "293ce8b6",
   "metadata": {},
   "outputs": [
    {
     "data": {
      "text/plain": [
       "array([[2, 1],\n",
       "       [1, 2]])"
      ]
     },
     "execution_count": 14,
     "metadata": {},
     "output_type": "execute_result"
    }
   ],
   "source": [
    "Z"
   ]
  },
  {
   "cell_type": "code",
   "execution_count": null,
   "id": "e5a064a8",
   "metadata": {},
   "outputs": [],
   "source": []
  }
 ],
 "metadata": {
  "kernelspec": {
   "display_name": "Python 3 (ipykernel)",
   "language": "python",
   "name": "python3"
  },
  "language_info": {
   "codemirror_mode": {
    "name": "ipython",
    "version": 3
   },
   "file_extension": ".py",
   "mimetype": "text/x-python",
   "name": "python",
   "nbconvert_exporter": "python",
   "pygments_lexer": "ipython3",
   "version": "3.9.13"
  }
 },
 "nbformat": 4,
 "nbformat_minor": 5
}
