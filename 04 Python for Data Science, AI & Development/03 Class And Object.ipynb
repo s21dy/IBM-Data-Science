{
 "cells": [
  {
   "cell_type": "markdown",
   "id": "34905c8d",
   "metadata": {},
   "source": [
    "## Introduction to classes and object\n",
    "\n",
    "- Python is an object-oriented programming (OOP) language that uses a paradigm centered around objects and classes.\n",
    "\n",
    "### Classes\n",
    "\n",
    "A class is a blueprint or template for creating objects. It defines the structure and behavior that its objects will have.\n",
    "\n",
    "Think of a class as a cookie cutter and objects as the cookies cut from that template.\n",
    "\n",
    "In Python, you can create classes using the ```class``` keyword.\n",
    "\n",
    "\n",
    "### Creating classes\n",
    "When you create a class, you specify the ```attributes```(data) and ```methods``` (functions) that objects of that class will have.\n",
    "```Attributes``` are defined as variables within the class, and ```methods ``` are defined as functions.\n",
    "For example,you can design a \"Car\" class with attributes such as \"color\" and \"speed,\" along with methods like \"accelerate.\"\n",
    "\n",
    "        \n",
    "### Objects\n",
    "An ***object*** is a fundamental unit in Python that represents a real-world entity or concept.\n",
    "Objects can be tangible (like a car) or abstract (like a student's grade).\n",
    "\n",
    "Every object has two main characteristics\n",
    "\n",
    "1. State\n",
    "    The attributes or data that describe the object. For your \"Car\" object, this might include attributes like \"color\", \"speed\", and \"fuel level\".\n",
    "\n",
    "2. Behavior\n",
    "    The actions or methods that the object can perform. In Python, methods are functions that belong to objects and can change the object's state or perform specific operations.\n",
    "\n",
    "### Instantiating objects\n",
    "Once you've defined a ***class***, you can create ***individual objects (instances)**** based on that class.\n",
    "Each object is independent and has its own set of attributes and methods.\n",
    "To create an object, you use the class name followed by parentheses, so: \"my_car = Car()\"\n",
    "\n",
    "\n",
    "### Interacting with objects\n",
    "You interact with objects by calling their methods or accessing their attributes using dot notation.\n",
    "\n",
    "For example, if you have a ***Car object*** named my_car, you can set its color with ```my_car.color = \"blue\"``` and accelerate it with ```my_car.accelerate()``` if there's an accelerate method defined in the class.\n",
    "\n"
   ]
  },
  {
   "cell_type": "code",
   "execution_count": 23,
   "id": "b3344cdd",
   "metadata": {},
   "outputs": [],
   "source": [
    "class Car:\n",
    "    # Class attribute (shared by all instances)\n",
    "    max_speed = 120  # Maximum speed in km/h\n",
    "    # Constructor method (initialize instance attributes)\n",
    "    def __init__(self, make, model, color, speed=0):\n",
    "        self.make = make\n",
    "        self.model = model\n",
    "        self.color = color\n",
    "        self.speed = speed  # Initial speed is set to 0\n",
    "    \n",
    "    # Method for accelerating the car\n",
    "    def accelerate(self, acceleration):\n",
    "        if self.speed + acceleration <= Car.max_speed:\n",
    "            self.speed += acceleration\n",
    "        else:\n",
    "            self.speed = Car.max_speed\n",
    "    # Method to get the current speed of the car\n",
    "    def get_speed(self):\n",
    "        return self.speed"
   ]
  },
  {
   "cell_type": "code",
   "execution_count": 24,
   "id": "e2e8a56f",
   "metadata": {},
   "outputs": [],
   "source": [
    "# Create objects (instances) of the Car class\n",
    "car1 = Car(\"Toyota\", \"Camry\", \"Blue\")\n",
    "car2 = Car(\"Honda\", \"Civic\", \"Red\")"
   ]
  },
  {
   "cell_type": "code",
   "execution_count": 25,
   "id": "780c7f75",
   "metadata": {},
   "outputs": [],
   "source": [
    "# Accelerate the cars\n",
    "car1.accelerate(30)\n",
    "car2.accelerate(20)"
   ]
  },
  {
   "cell_type": "code",
   "execution_count": 26,
   "id": "d678f1ac",
   "metadata": {},
   "outputs": [
    {
     "name": "stdout",
     "output_type": "stream",
     "text": [
      "Toyota Camry is currently at 30 km/h.\n",
      "Honda Civic is currently at 20 km/h.\n"
     ]
    }
   ],
   "source": [
    "# Print the current speeds of the cars\n",
    "print(f\"{car1.make} {car1.model} is currently at {car1.get_speed()} km/h.\")\n",
    "print(f\"{car2.make} {car2.model} is currently at {car2.get_speed()} km/h.\")"
   ]
  },
  {
   "cell_type": "code",
   "execution_count": 27,
   "id": "2053a52a",
   "metadata": {},
   "outputs": [
    {
     "name": "stdout",
     "output_type": "stream",
     "text": [
      "80\n"
     ]
    }
   ],
   "source": [
    "class Graph():\n",
    "    def __init__(self, id):\n",
    "        self.id = id\n",
    "        self.id = 80\n",
    "\n",
    "\n",
    "val = Graph(200)\n",
    "print(val.id)"
   ]
  },
  {
   "cell_type": "code",
   "execution_count": null,
   "id": "63f24134",
   "metadata": {},
   "outputs": [],
   "source": []
  }
 ],
 "metadata": {
  "kernelspec": {
   "display_name": "Python 3 (ipykernel)",
   "language": "python",
   "name": "python3"
  },
  "language_info": {
   "codemirror_mode": {
    "name": "ipython",
    "version": 3
   },
   "file_extension": ".py",
   "mimetype": "text/x-python",
   "name": "python",
   "nbconvert_exporter": "python",
   "pygments_lexer": "ipython3",
   "version": "3.9.13"
  }
 },
 "nbformat": 4,
 "nbformat_minor": 5
}
