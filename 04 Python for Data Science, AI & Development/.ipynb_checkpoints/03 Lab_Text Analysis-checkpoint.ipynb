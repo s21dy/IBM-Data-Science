{
 "cells": [
  {
   "cell_type": "markdown",
   "id": "122691e5",
   "metadata": {},
   "source": [
    "**Task 1. String in lowercase**: You want to pre-process the customer feedback by converting all the text to lowercase. This step helps standardize the text. Lower casing the text allows you to focus on the content rather than the specific letter casing.\n",
    "\n",
    "**Task 2. Frequency of all words in a given string**: After converting the text to lowercase, you want to determine the frequency of each word in the customer feedback. This information will help you identify which words are used more frequently, indicating the key aspects or topics that customers are mentioning in their reviews. By analyzing the word frequencies, you can gain insights into the most common issues raised by customers.\n",
    "\n",
    "**Task 3. Frequency of a specific word**: In addition to analyzing the overall word frequencies, you want to specifically track the frequency of a particular word that is relevant to your analysis. For example, you might be interested in monitoring how often the word \"reliable\" appears in customer reviews to gauge customer sentiment about the product's reliability. By focusing on the frequency of a specific word, you can gain a deeper understanding of customer opinions or preferences related to that particular aspect."
   ]
  },
  {
   "cell_type": "markdown",
   "id": "56d66a53",
   "metadata": {},
   "source": [
    "# Part A: \n",
    "\n",
    "## Step 1. Define a String\n",
    "## Step 2: Define the class and its attributes\n",
    "## Step 3: Implement a code to format the text in lowercase\n",
    "   1. Inside the constructor, convert the text argument to lowercase using the lower() method.\n",
    "   2. Then, remove punctuation marks (periods, exclamation marks, commas, and question marks) from the text using the replace() method.\n",
    "   3. Finally, assign the formatted text to a new attribute called fmtText.\n",
    "    \n",
    "## Step 4: Implement a code to count the frequency of all unique words\n",
    "   - In this step, you will implement the freqAll() method with the below parameters:\n",
    "        1. Split the fmtText attribute into individual words using the split() method.\n",
    "        2. Create an empty dictionary to store the word frequency.\n",
    "        3. Iterate over the list of words and update the frequency dictionary accordingly.\n",
    "        4. Use count method for counting the occurence.\n",
    "        5. Return the frequency dictionary.\n",
    "\n",
    "## Step 5: Implement a code to count the frequency of a specific word\n",
    "- In step-5, you have to implement the freqOf(word) method that takes a word argument:\n",
    "    1. Create a method and pass the word that needs to be found.\n",
    "    2. Get the freqAll method to look for count and check if that word is in the list.\n",
    "    3. Return the count. If the word is not found, the count returned is 0.\n",
    "    4. Update the above TextAnalyzer class with the points mentioned above."
   ]
  },
  {
   "cell_type": "code",
   "execution_count": 35,
   "id": "041d7a71",
   "metadata": {},
   "outputs": [],
   "source": [
    "# Step1\n",
    "givenstring=\"Lorem ipsum dolor! diam amet, consetetur Lorem magna. sed diam nonumy eirmod tempor. diam et labore? et diam magna. et diam amet.\"\n",
    "\n",
    "#Step2\n",
    "class TextAnalyzer():\n",
    "    \n",
    "    # Step 3\n",
    "    def __init__(self, text):\n",
    "        formattedText = text.replace('.','').replace('!','').replace('?','').replace(',','')\n",
    "        formattedText = formattedText.lower()\n",
    "        self.fmtText = formattedText\n",
    "    \n",
    "    #Step 4\n",
    "    def freqAll(self):\n",
    "        word_freq = {}\n",
    "        word_bank = self.fmtText.split(\" \")\n",
    "        for word in set(word_bank):\n",
    "            word_freq[word] = word_bank.count(word)\n",
    "        \n",
    "        return word_freq\n",
    "    \n",
    "    def freqOf(self, word):\n",
    "        \n",
    "        # Get the freqAll method\n",
    "        freqDict = self.freqAll()\n",
    "        \n",
    "        if freqDict[word]: \n",
    "            return freqDict[word] \n",
    "        else:\n",
    "            return 0"
   ]
  },
  {
   "cell_type": "markdown",
   "id": "7031c97a",
   "metadata": {},
   "source": [
    "# Part-B\n",
    "In Part B, you will call the functions created in Part A, allowing the functions to execute and generate output.\n",
    "\n",
    "### Step 1: Create an instance of TextAnalyzer class\n",
    "- Instantiate the TextAnalyzer class by passing the given string as an argument.\n",
    "\n",
    "### Step 2: Call the function that converts the data into lowercase\n",
    "### Step 3: Call the function that counts the frequency of all unique words from the data\n",
    "### Step 4: Call the function that counts the frequency of a specific word"
   ]
  },
  {
   "cell_type": "code",
   "execution_count": 36,
   "id": "180281b2",
   "metadata": {},
   "outputs": [],
   "source": [
    "# Step 1\n",
    "text_analysis = TextAnalyzer(givenstring)"
   ]
  },
  {
   "cell_type": "code",
   "execution_count": 37,
   "id": "c5d3aa09",
   "metadata": {},
   "outputs": [
    {
     "data": {
      "text/plain": [
       "'lorem ipsum dolor diam amet consetetur lorem magna sed diam nonumy eirmod tempor diam et labore et diam magna et diam amet'"
      ]
     },
     "execution_count": 37,
     "metadata": {},
     "output_type": "execute_result"
    }
   ],
   "source": [
    "# Step 2\n",
    "text_analysis.fmtText"
   ]
  },
  {
   "cell_type": "code",
   "execution_count": 38,
   "id": "8e6caec9",
   "metadata": {},
   "outputs": [
    {
     "name": "stdout",
     "output_type": "stream",
     "text": [
      "{'diam': 5, 'tempor': 1, 'labore': 1, 'et': 3, 'sed': 1, 'nonumy': 1, 'magna': 2, 'lorem': 2, 'eirmod': 1, 'amet': 2, 'ipsum': 1, 'consetetur': 1, 'dolor': 1}\n"
     ]
    }
   ],
   "source": [
    "# Step 3\n",
    "freqMap = text_analysis.freqAll()\n",
    "print(freqMap)"
   ]
  },
  {
   "cell_type": "code",
   "execution_count": 39,
   "id": "d8428ed2",
   "metadata": {},
   "outputs": [
    {
     "data": {
      "text/plain": [
       "1"
      ]
     },
     "execution_count": 39,
     "metadata": {},
     "output_type": "execute_result"
    }
   ],
   "source": [
    "# Step 4\n",
    "text_analysis.freqOf(\"tempor\")"
   ]
  },
  {
   "cell_type": "code",
   "execution_count": 40,
   "id": "8bc4cf34",
   "metadata": {},
   "outputs": [
    {
     "name": "stdout",
     "output_type": "stream",
     "text": [
      "2\n"
     ]
    }
   ],
   "source": [
    "a = 1 \n",
    "\n",
    "\n",
    "def do(x): \n",
    "    return x + a \n",
    "\n",
    "\n",
    "print(do(1))\n"
   ]
  },
  {
   "cell_type": "code",
   "execution_count": 41,
   "id": "33750b11",
   "metadata": {},
   "outputs": [
    {
     "data": {
      "text/plain": [
       "3"
      ]
     },
     "execution_count": 41,
     "metadata": {},
     "output_type": "execute_result"
    }
   ],
   "source": [
    "sum((1,2))"
   ]
  },
  {
   "cell_type": "code",
   "execution_count": 42,
   "id": "afdd5521",
   "metadata": {},
   "outputs": [
    {
     "data": {
      "text/plain": [
       "4"
      ]
     },
     "execution_count": 42,
     "metadata": {},
     "output_type": "execute_result"
    }
   ],
   "source": [
    "sum((2,2))"
   ]
  },
  {
   "cell_type": "code",
   "execution_count": null,
   "id": "003857b7",
   "metadata": {},
   "outputs": [],
   "source": []
  },
  {
   "cell_type": "code",
   "execution_count": null,
   "id": "8a4f2fb5",
   "metadata": {},
   "outputs": [],
   "source": []
  }
 ],
 "metadata": {
  "kernelspec": {
   "display_name": "Python 3 (ipykernel)",
   "language": "python",
   "name": "python3"
  },
  "language_info": {
   "codemirror_mode": {
    "name": "ipython",
    "version": 3
   },
   "file_extension": ".py",
   "mimetype": "text/x-python",
   "name": "python",
   "nbconvert_exporter": "python",
   "pygments_lexer": "ipython3",
   "version": "3.9.13"
  }
 },
 "nbformat": 4,
 "nbformat_minor": 5
}
