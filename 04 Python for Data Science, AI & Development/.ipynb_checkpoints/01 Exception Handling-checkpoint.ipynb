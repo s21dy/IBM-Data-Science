{
 "cells": [
  {
   "cell_type": "markdown",
   "id": "b705a55e",
   "metadata": {},
   "source": [
    "## Errors vs. Exceptions\n",
    "Hold on, what is the difference between errors and exceptions? Well, errors are usually big problems that come from the computer or the system. They often make the program stop working completely. On the other hand, exceptions are more like issues we can control. They happen because of something we did in our code and can usually be fixed, so the program keeps going."
   ]
  },
  {
   "cell_type": "markdown",
   "id": "477c1443",
   "metadata": {},
   "source": [
    "Here is the difference between Errors and **exceptions**"
   ]
  },
  {
   "cell_type": "markdown",
   "id": "097efe6a",
   "metadata": {},
   "source": [
    "| Aspect | Errors | Exceptions |\n",
    "|:---|:---|:---|\n",
    "| Origin | Errors are typically caused by the environment, hardware, or operating system. | Exceptions are usually a result of problematic code execution within the program. |\n",
    "| Nature | Errors are often severe and can lead to program crashes or abnormal termination. | Exceptions are generally less severe and can be caught and handled to prevent program termination. |\n",
    "| Handling | Errors are not usually caught or handled by the program itself. | Exceptions can be caught using try-except blocks and dealt with gracefully, allowing the program to continue execution. |\n",
    "| Examples | Examples include “SyntaxError” due to incorrect syntax or “NameError” when a variable is not defined. | Examples include “ZeroDivisionError” when dividing by zero, or “FileNotFoundError” when attempting to open a non-existent file. |\n",
    "| Categorization | Errors are not classified into categories. | Exceptions are categorized into various classes, such as “ArithmeticError,” “IOError,” ValueError,” etc., based on their nature. |"
   ]
  },
  {
   "cell_type": "markdown",
   "id": "f671c3b1",
   "metadata": {},
   "source": [
    "# Common Exceptions in Python\n",
    "\n",
    "Here are a few examples of exceptions we often run into and can handle using this tool:\n",
    "\n",
    "ZeroDivisionError: This error arises when an attempt is made to divide a number by zero. Division by zero is undefined in mathematics, causing an arithmetic error. For instance:\n",
    "For example:"
   ]
  },
  {
   "cell_type": "code",
   "execution_count": 1,
   "id": "1cf96b1b",
   "metadata": {},
   "outputs": [
    {
     "ename": "ZeroDivisionError",
     "evalue": "division by zero",
     "output_type": "error",
     "traceback": [
      "\u001b[0;31m---------------------------------------------------------------------------\u001b[0m",
      "\u001b[0;31mZeroDivisionError\u001b[0m                         Traceback (most recent call last)",
      "\u001b[0;32m/var/folders/jm/547_dt494bxc278s4393lbh80000gn/T/ipykernel_2751/3580792533.py\u001b[0m in \u001b[0;36m<module>\u001b[0;34m\u001b[0m\n\u001b[0;32m----> 1\u001b[0;31m \u001b[0mresult\u001b[0m \u001b[0;34m=\u001b[0m \u001b[0;36m10\u001b[0m \u001b[0;34m/\u001b[0m \u001b[0;36m0\u001b[0m\u001b[0;34m\u001b[0m\u001b[0;34m\u001b[0m\u001b[0m\n\u001b[0m\u001b[1;32m      2\u001b[0m \u001b[0mprint\u001b[0m\u001b[0;34m(\u001b[0m\u001b[0mresult\u001b[0m\u001b[0;34m)\u001b[0m\u001b[0;34m\u001b[0m\u001b[0;34m\u001b[0m\u001b[0m\n\u001b[1;32m      3\u001b[0m \u001b[0;31m# Raises ZeroDivisionError\u001b[0m\u001b[0;34m\u001b[0m\u001b[0;34m\u001b[0m\u001b[0m\n",
      "\u001b[0;31mZeroDivisionError\u001b[0m: division by zero"
     ]
    }
   ],
   "source": [
    "result = 10 / 0 \n",
    "print(result)\n",
    "# Raises ZeroDivisionError"
   ]
  },
  {
   "cell_type": "code",
   "execution_count": 2,
   "id": "4c7491be",
   "metadata": {},
   "outputs": [
    {
     "ename": "ValueError",
     "evalue": "invalid literal for int() with base 10: 'abc'",
     "output_type": "error",
     "traceback": [
      "\u001b[0;31m---------------------------------------------------------------------------\u001b[0m",
      "\u001b[0;31mValueError\u001b[0m                                Traceback (most recent call last)",
      "\u001b[0;32m/var/folders/jm/547_dt494bxc278s4393lbh80000gn/T/ipykernel_2751/2341976609.py\u001b[0m in \u001b[0;36m<module>\u001b[0;34m\u001b[0m\n\u001b[0;32m----> 1\u001b[0;31m \u001b[0mnum\u001b[0m \u001b[0;34m=\u001b[0m \u001b[0mint\u001b[0m\u001b[0;34m(\u001b[0m\u001b[0;34m\"abc\"\u001b[0m\u001b[0;34m)\u001b[0m\u001b[0;34m\u001b[0m\u001b[0;34m\u001b[0m\u001b[0m\n\u001b[0m\u001b[1;32m      2\u001b[0m \u001b[0;31m# Raises ValueError\u001b[0m\u001b[0;34m\u001b[0m\u001b[0;34m\u001b[0m\u001b[0m\n",
      "\u001b[0;31mValueError\u001b[0m: invalid literal for int() with base 10: 'abc'"
     ]
    }
   ],
   "source": [
    "num = int(\"abc\")\n",
    "# Raises ValueError"
   ]
  },
  {
   "cell_type": "markdown",
   "id": "bb75107a",
   "metadata": {},
   "source": [
    "# Handling Exceptions:"
   ]
  },
  {
   "cell_type": "code",
   "execution_count": 4,
   "id": "49956ec4",
   "metadata": {},
   "outputs": [
    {
     "name": "stdout",
     "output_type": "stream",
     "text": [
      "Error: Cannot divide by zero\n",
      "outside of try and except block\n"
     ]
    }
   ],
   "source": [
    "# using Try- except \n",
    "try:\n",
    "    # Attempting to divide 10 by 0\n",
    "    result = 10 / 0\n",
    "except ZeroDivisionError:\n",
    "    # Handling the ZeroDivisionError and printing an error message\n",
    "    print(\"Error: Cannot divide by zero\")\n",
    "    \n",
    "# This line will be executed regardless of whether an exception occurred\n",
    "print(\"outside of try and except block\")"
   ]
  },
  {
   "cell_type": "code",
   "execution_count": null,
   "id": "ef86c211",
   "metadata": {},
   "outputs": [],
   "source": []
  }
 ],
 "metadata": {
  "kernelspec": {
   "display_name": "Python 3 (ipykernel)",
   "language": "python",
   "name": "python3"
  },
  "language_info": {
   "codemirror_mode": {
    "name": "ipython",
    "version": 3
   },
   "file_extension": ".py",
   "mimetype": "text/x-python",
   "name": "python",
   "nbconvert_exporter": "python",
   "pygments_lexer": "ipython3",
   "version": "3.9.13"
  }
 },
 "nbformat": 4,
 "nbformat_minor": 5
}
