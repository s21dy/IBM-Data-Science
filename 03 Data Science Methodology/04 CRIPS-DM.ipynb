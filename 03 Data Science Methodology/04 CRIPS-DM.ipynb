{
 "cells": [
  {
   "cell_type": "markdown",
   "id": "34d52439",
   "metadata": {},
   "source": [
    "# Introduction to CRISP-DM\n",
    "\n",
    "## Overview\n",
    "- Objective: Define CRISP-DM, list and describe its six stages, and explain post-final stage actions.\n",
    "- CRISP-DM: Stands for Cross-Industry Standard Process for Data Mining.\n",
    "- Purpose: An industry-proven, iterative, and comprehensive methodology for data mining projects providing a structured approach to data-driven decision making.\n",
    "\n",
    "\n",
    "## Six Stages of CRISP-DM\n",
    "\n",
    "1. Business Understanding:\n",
    "    - Most important stage.\n",
    "    - Sets and outlines the intentions of the data analysis project.\n",
    "    - Requires communication and clarity to overcome stakeholders' differing objectives and biases.\n",
    "    - Ensures a clear, concise, and complete understanding of the business problem and project goals to avoid wasting time and resources.\n",
    "\n",
    "\n",
    "2. Data Understanding:\n",
    "    - Combines data requirements, data collection, and data understanding.\n",
    "    - Data scientists decide on data sources and acquire data.\n",
    "    - Ensures the collection of necessary data for the project.\n",
    "\n",
    "\n",
    "3. Data Preparation:\n",
    "    - Transforms collected data into a usable subset.\n",
    "    - Addresses questionable, missing, or ambiguous data values.\n",
    "    - Common to foundational data methodology in CRISP-DM.\n",
    "\n",
    "\n",
    "4. Modeling:\n",
    "    - Creates data models to reveal patterns and structures within the data.\n",
    "    - Provides knowledge and insights addressing the business problem and goals.\n",
    "    - Involves selecting models based on data subsets and adjusting them as needed.\n",
    "    - Model selection is both an art and a science.\n",
    "\n",
    "5. Evaluation:\n",
    "\n",
    "    - Tests the selected model with a pre-selected test.\n",
    "    - Assesses the model's effectiveness and determines its efficacy.\n",
    "    - Results foreshadow the model's role in the deployment stage.\n",
    "\n",
    "6. Deployment:\n",
    "    - Uses the model on new data outside of the initial dataset.\n",
    "    - New interactions may reveal new variables and the need for different datasets and models.\n",
    "    - The iterative and cyclical nature of CRISP-DM may initiate revisions to business needs, the model, and data.\n",
    "\n",
    "### Post-Final Stage Actions\n",
    "- Business Understanding Meeting: After all six stages, hold another meeting with stakeholders to discuss results.\n",
    "- Feedback Stage: Though not named in CRISP-DM, it corresponds to the Feedback stage in John Rollins' methodology.\n",
    "- Iteration: Continue the CRISP-DM process until stakeholders, management, and data scientists agree that the data model and its analysis provide the necessary answers to resolve business problems and attain goals.\n"
   ]
  },
  {
   "cell_type": "code",
   "execution_count": null,
   "id": "b85601bb",
   "metadata": {},
   "outputs": [],
   "source": []
  }
 ],
 "metadata": {
  "kernelspec": {
   "display_name": "Python 3 (ipykernel)",
   "language": "python",
   "name": "python3"
  },
  "language_info": {
   "codemirror_mode": {
    "name": "ipython",
    "version": 3
   },
   "file_extension": ".py",
   "mimetype": "text/x-python",
   "name": "python",
   "nbconvert_exporter": "python",
   "pygments_lexer": "ipython3",
   "version": "3.9.13"
  }
 },
 "nbformat": 4,
 "nbformat_minor": 5
}
