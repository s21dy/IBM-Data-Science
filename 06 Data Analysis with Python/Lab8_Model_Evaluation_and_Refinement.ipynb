{
 "cells": [
  {
   "cell_type": "code",
   "execution_count": 3,
   "id": "6daf4bc7",
   "metadata": {},
   "outputs": [],
   "source": [
    "import pandas as pd\n",
    "import numpy as np\n",
    "from tqdm import tqdm\n",
    "\n",
    "# Model development module\n",
    "from sklearn.linear_model import LinearRegression\n",
    "from sklearn.model_selection import train_test_split\n",
    "from sklearn.model_selection import cross_val_score\n",
    "from sklearn.preprocessing import PolynomialFeatures\n",
    "from sklearn.linear_model import Ridge\n",
    "from sklearn.model_selection import GridSearchCV\n",
    "\n",
    "# Plotting\n",
    "import seaborn as sns\n",
    "from ipywidgets import interact, interactive, fixed, interact_manual\n",
    "import matplotlib.pyplot as plt\n",
    "%matplotlib inline\n",
    "\n",
    "import warnings\n",
    "warnings.filterwarnings('ignore')"
   ]
  },
  {
   "cell_type": "code",
   "execution_count": 5,
   "id": "89c0c74d",
   "metadata": {},
   "outputs": [
    {
     "data": {
      "text/html": [
       "<div>\n",
       "<style scoped>\n",
       "    .dataframe tbody tr th:only-of-type {\n",
       "        vertical-align: middle;\n",
       "    }\n",
       "\n",
       "    .dataframe tbody tr th {\n",
       "        vertical-align: top;\n",
       "    }\n",
       "\n",
       "    .dataframe thead th {\n",
       "        text-align: right;\n",
       "    }\n",
       "</style>\n",
       "<table border=\"1\" class=\"dataframe\">\n",
       "  <thead>\n",
       "    <tr style=\"text-align: right;\">\n",
       "      <th></th>\n",
       "      <th>Unnamed: 0.1</th>\n",
       "      <th>Unnamed: 0</th>\n",
       "      <th>Manufacturer</th>\n",
       "      <th>Category</th>\n",
       "      <th>GPU</th>\n",
       "      <th>OS</th>\n",
       "      <th>CPU_core</th>\n",
       "      <th>Screen_Size_inch</th>\n",
       "      <th>CPU_frequency</th>\n",
       "      <th>RAM_GB</th>\n",
       "      <th>Storage_GB_SSD</th>\n",
       "      <th>Weight_pounds</th>\n",
       "      <th>Price</th>\n",
       "      <th>Price-binned</th>\n",
       "      <th>Screen-Full_HD</th>\n",
       "      <th>Screen-IPS_panel</th>\n",
       "    </tr>\n",
       "  </thead>\n",
       "  <tbody>\n",
       "    <tr>\n",
       "      <th>0</th>\n",
       "      <td>0</td>\n",
       "      <td>0</td>\n",
       "      <td>Acer</td>\n",
       "      <td>4</td>\n",
       "      <td>2</td>\n",
       "      <td>1</td>\n",
       "      <td>5</td>\n",
       "      <td>14.0</td>\n",
       "      <td>0.551724</td>\n",
       "      <td>8</td>\n",
       "      <td>256</td>\n",
       "      <td>3.52800</td>\n",
       "      <td>978</td>\n",
       "      <td>Low</td>\n",
       "      <td>0</td>\n",
       "      <td>1</td>\n",
       "    </tr>\n",
       "    <tr>\n",
       "      <th>1</th>\n",
       "      <td>1</td>\n",
       "      <td>1</td>\n",
       "      <td>Dell</td>\n",
       "      <td>3</td>\n",
       "      <td>1</td>\n",
       "      <td>1</td>\n",
       "      <td>3</td>\n",
       "      <td>15.6</td>\n",
       "      <td>0.689655</td>\n",
       "      <td>4</td>\n",
       "      <td>256</td>\n",
       "      <td>4.85100</td>\n",
       "      <td>634</td>\n",
       "      <td>Low</td>\n",
       "      <td>1</td>\n",
       "      <td>0</td>\n",
       "    </tr>\n",
       "    <tr>\n",
       "      <th>2</th>\n",
       "      <td>2</td>\n",
       "      <td>2</td>\n",
       "      <td>Dell</td>\n",
       "      <td>3</td>\n",
       "      <td>1</td>\n",
       "      <td>1</td>\n",
       "      <td>7</td>\n",
       "      <td>15.6</td>\n",
       "      <td>0.931034</td>\n",
       "      <td>8</td>\n",
       "      <td>256</td>\n",
       "      <td>4.85100</td>\n",
       "      <td>946</td>\n",
       "      <td>Low</td>\n",
       "      <td>1</td>\n",
       "      <td>0</td>\n",
       "    </tr>\n",
       "    <tr>\n",
       "      <th>3</th>\n",
       "      <td>3</td>\n",
       "      <td>3</td>\n",
       "      <td>Dell</td>\n",
       "      <td>4</td>\n",
       "      <td>2</td>\n",
       "      <td>1</td>\n",
       "      <td>5</td>\n",
       "      <td>13.3</td>\n",
       "      <td>0.551724</td>\n",
       "      <td>8</td>\n",
       "      <td>128</td>\n",
       "      <td>2.69010</td>\n",
       "      <td>1244</td>\n",
       "      <td>Low</td>\n",
       "      <td>0</td>\n",
       "      <td>1</td>\n",
       "    </tr>\n",
       "    <tr>\n",
       "      <th>4</th>\n",
       "      <td>4</td>\n",
       "      <td>4</td>\n",
       "      <td>HP</td>\n",
       "      <td>4</td>\n",
       "      <td>2</td>\n",
       "      <td>1</td>\n",
       "      <td>7</td>\n",
       "      <td>15.6</td>\n",
       "      <td>0.620690</td>\n",
       "      <td>8</td>\n",
       "      <td>256</td>\n",
       "      <td>4.21155</td>\n",
       "      <td>837</td>\n",
       "      <td>Low</td>\n",
       "      <td>1</td>\n",
       "      <td>0</td>\n",
       "    </tr>\n",
       "  </tbody>\n",
       "</table>\n",
       "</div>"
      ],
      "text/plain": [
       "   Unnamed: 0.1  Unnamed: 0 Manufacturer  Category  GPU  OS  CPU_core  \\\n",
       "0             0           0         Acer         4    2   1         5   \n",
       "1             1           1         Dell         3    1   1         3   \n",
       "2             2           2         Dell         3    1   1         7   \n",
       "3             3           3         Dell         4    2   1         5   \n",
       "4             4           4           HP         4    2   1         7   \n",
       "\n",
       "   Screen_Size_inch  CPU_frequency  RAM_GB  Storage_GB_SSD  Weight_pounds  \\\n",
       "0              14.0       0.551724       8             256        3.52800   \n",
       "1              15.6       0.689655       4             256        4.85100   \n",
       "2              15.6       0.931034       8             256        4.85100   \n",
       "3              13.3       0.551724       8             128        2.69010   \n",
       "4              15.6       0.620690       8             256        4.21155   \n",
       "\n",
       "   Price Price-binned  Screen-Full_HD  Screen-IPS_panel  \n",
       "0    978          Low               0                 1  \n",
       "1    634          Low               1                 0  \n",
       "2    946          Low               1                 0  \n",
       "3   1244          Low               0                 1  \n",
       "4    837          Low               1                 0  "
      ]
     },
     "execution_count": 5,
     "metadata": {},
     "output_type": "execute_result"
    }
   ],
   "source": [
    "filepath = 'https://cf-courses-data.s3.us.cloud-object-storage.appdomain.cloud/IBMDeveloperSkillsNetwork-DA0101EN-Coursera/laptop_pricing_dataset_mod2.csv'\n",
    "df = pd.read_csv(filepath)\n",
    "df.head()"
   ]
  },
  {
   "cell_type": "code",
   "execution_count": 7,
   "id": "b6f3871b",
   "metadata": {},
   "outputs": [],
   "source": [
    "# Drop unneed column\n",
    "df.drop(['Unnamed: 0.1', 'Unnamed: 0'], axis = 1, inplace = True)"
   ]
  },
  {
   "cell_type": "markdown",
   "id": "52d61d92",
   "metadata": {},
   "source": [
    "# Using Cross validation to improve the model\n",
    "\n",
    "1. Divide the dataset into x_data and y_data parameters. Here y_data is the \"Price\" attribute, and x_data has all other attributes in the data set.\n",
    "\n",
    "2. Create a single variable linear regression model using \"CPU_frequency\" parameter. Print the R^2 value of this model for the training and testing subsets.\n",
    "\n",
    "3. Run a 4-fold cross validation on the model and print the mean value of R^2 score along with its standard deviation."
   ]
  },
  {
   "cell_type": "code",
   "execution_count": 20,
   "id": "d93ccd02",
   "metadata": {},
   "outputs": [
    {
     "name": "stdout",
     "output_type": "stream",
     "text": [
      "Training Set, Shape:  214\n",
      "Testing Set, Shape:  24\n"
     ]
    }
   ],
   "source": [
    "# 1. Divide the dataset into x_data and y_data parameters. \n",
    "#    Here y_data is the \"Price\" attribute, and x_data has all other \n",
    "#   attributes in the data set.\n",
    "\n",
    "y_data = df[[\"Price\"]]\n",
    "x_data = df.drop([\"Price\"], axis = 1)\n",
    "\n",
    "x_train, x_test, y_train, y_test = train_test_split(x_data, y_data,\n",
    "                                                    test_size = 0.1,\n",
    "                                                    random_state = 1)\n",
    "\n",
    "print(\"Training Set, Shape: \", x_train.shape[0])\n",
    "print(\"Testing Set, Shape: \", x_test.shape[0])"
   ]
  },
  {
   "cell_type": "code",
   "execution_count": 21,
   "id": "386b8742",
   "metadata": {},
   "outputs": [
    {
     "name": "stdout",
     "output_type": "stream",
     "text": [
      "Training Set, R^2:  0.14829792099817984\n",
      "Training Set, R^2:  -0.06599437350393811\n"
     ]
    }
   ],
   "source": [
    "# 2. Create a single variable linear regression model using \"CPU_frequency\" parameter. \n",
    "#    Print the R^2 value of this model for the training and testing subsets.\n",
    "lm = LinearRegression()\n",
    "lm.fit(x_train[[\"CPU_frequency\"]], y_train)\n",
    "\n",
    "print(\"Training Set, R^2: \", lm.score(x_train[[\"CPU_frequency\"]], y_train))\n",
    "print(\"Training Set, R^2: \", lm.score(x_test[[\"CPU_frequency\"]], y_test))"
   ]
  },
  {
   "cell_type": "code",
   "execution_count": 24,
   "id": "1b1adcfb",
   "metadata": {},
   "outputs": [
    {
     "name": "stdout",
     "output_type": "stream",
     "text": [
      "Cross Validation, R^2 mean:  0.12738818019555015\n",
      "Cross Validation, Standard Deviation:  0.08317058010912026\n"
     ]
    }
   ],
   "source": [
    "# 3. Run a 4-fold cross validation on the model \n",
    "#    Print the mean value of R^2 score along with its standard deviation\n",
    "\n",
    "cross_lm = cross_val_score(lm, x_train[[\"CPU_frequency\"]], y_train, cv=4)\n",
    "\n",
    "print(\"Cross Validation, R^2 mean: \", cross_lm.mean())\n",
    "print(\"Cross Validation, Standard Deviation: \", cross_lm.std())\n"
   ]
  },
  {
   "cell_type": "markdown",
   "id": "301bbe58",
   "metadata": {},
   "source": [
    "# Overfitting\n",
    "\n",
    "1. Split the data set into training and testing components again, this time reserving 50% of the data set for testing.\n",
    "2. To identify the point of overfitting the model on the parameter \"CPU_frequency\", you'll need to create polynomial features using the single attribute. You need to evaluate the R^2 scores of the model created using different degrees of polynomial features, ranging from 1 to 5. Save this set of values of R^2 score as a list.\n",
    "3. Plot the values of R^2 scores against the order. Note the point where the score drops.\n"
   ]
  },
  {
   "cell_type": "code",
   "execution_count": 26,
   "id": "55049a4a",
   "metadata": {},
   "outputs": [],
   "source": [
    "# 1. Split the data set into training and testing components \n",
    "#    Reserving 50% of the data set for testing\n",
    "\n",
    "x_train, x_test, y_train, y_test = train_test_split(x_data, y_data,\n",
    "                                                   test_size = 0.5,\n",
    "                                                   random_state = 0)\n"
   ]
  },
  {
   "cell_type": "code",
   "execution_count": 33,
   "id": "67452d12",
   "metadata": {},
   "outputs": [
    {
     "name": "stdout",
     "output_type": "stream",
     "text": [
      "Order  1 :  -0.3778635840536677\n",
      "Order  2 :  -0.583865722311901\n",
      "Order  3 :  -0.6203187064944935\n",
      "Order  4 :  -0.669271987889339\n",
      "Order  5 :  -0.7095758659179585\n"
     ]
    }
   ],
   "source": [
    "# 2. To identify the point of overfitting the model on the parameter \"CPU_frequency\"\n",
    "#    Create polynomial features using the single attribute. \n",
    "#    Evaluate the R^2 scores of the model created using different degrees of \n",
    "#    polynomial features, ranging from 1 to 5. \n",
    "#    Save this set of values of R^2 score as a list\n",
    "\n",
    "order = [1, 2, 3, 4, 5]\n",
    "Rsqu_test = []\n",
    "\n",
    "for n in order:\n",
    "    poly = PolynomialFeatures(degree = n)\n",
    "\n",
    "    x_train_pr = poly.fit_transform(x_train[[\"CPU_frequency\"]])\n",
    "    x_test_pr = poly.fit_transform(x_train[[\"CPU_frequency\"]])\n",
    "    \n",
    "    lm.fit(x_train_pr, y_train)\n",
    "    \n",
    "    print(\"Order \", n, \": \", lm.score(x_test_pr, y_test))\n",
    "    Rsqu_test.append(lm.score(x_test_pr, y_test))\n",
    "    "
   ]
  },
  {
   "cell_type": "code",
   "execution_count": 36,
   "id": "bacf59d2",
   "metadata": {},
   "outputs": [
    {
     "data": {
      "text/plain": [
       "Text(0.5, 1.0, 'R^2 Using Test Data')"
      ]
     },
     "execution_count": 36,
     "metadata": {},
     "output_type": "execute_result"
    },
    {
     "data": {
      "image/png": "[encoded data removed]",
      "text/plain": [
       "<Figure size 640x480 with 1 Axes>"
      ]
     },
     "metadata": {},
     "output_type": "display_data"
    }
   ],
   "source": [
    "# Plot the values of R^2 scores against the order. \n",
    "# Note the point where the score drops.\n",
    "\n",
    "plt.plot(order, Rsqu_test)\n",
    "plt.xlabel('order')\n",
    "plt.ylabel('R^2')\n",
    "plt.title('R^2 Using Test Data')"
   ]
  },
  {
   "cell_type": "markdown",
   "id": "0a2a5b41",
   "metadata": {},
   "source": [
    "# Ridge Regression\n",
    "\n",
    "1. Consider that you have multiple features, i.e. 'CPU_frequency', 'RAM_GB', 'Storage_GB_SSD', 'CPU_core','OS','GPU' and 'Category'. Create a polynomial feature model that uses all these parameters with degree=2. Also create the training and testing attribute sets."
   ]
  },
  {
   "cell_type": "code",
   "execution_count": 41,
   "id": "82db7e01",
   "metadata": {},
   "outputs": [],
   "source": [
    "# 1. Create a polynomial feature model that uses all these parameters with degree=2. \n",
    "#    Also create the training and testing attribute sets.\n",
    "\n",
    "ploy1 = PolynomialFeatures(degree = 2)\n",
    "\n",
    "x_train_pr2 = poly.fit_transform(x_train[['CPU_frequency', 'RAM_GB', \n",
    "                                          'Storage_GB_SSD', 'CPU_core',\n",
    "                                          'OS','GPU', 'Category']])\n",
    "x_test_pr2 = poly.fit_transform(x_train[['CPU_frequency', 'RAM_GB', 'Storage_GB_SSD', 'CPU_core','OS','GPU', 'Category']])"
   ]
  },
  {
   "cell_type": "code",
   "execution_count": 42,
   "id": "50f42f51",
   "metadata": {},
   "outputs": [
    {
     "name": "stderr",
     "output_type": "stream",
     "text": [
      "100%|███| 999/999 [00:02<00:00, 439.56it/s, Test Score=-.454, Train Score=0.283]\n"
     ]
    }
   ],
   "source": [
    "# 2. Create a Ridge Regression model and evaluate it using values of the \n",
    "#    hyperparameter alpha ranging from 0.001 to 1 with increments of 0.001. \n",
    "#   Create a list of all Ridge Regression R^2 scores for training and testing data.\n",
    "\n",
    "Rsqu_test = []\n",
    "Rsqu_train = []\n",
    "Alpha = np.arange(0.001,1,0.001)\n",
    "pbar = tqdm(Alpha)\n",
    "\n",
    "for alpha in pbar:\n",
    "    RigeModel = Ridge(alpha=alpha) \n",
    "    RigeModel.fit(x_train_pr, y_train)\n",
    "    test_score, train_score = RigeModel.score(x_test_pr, y_test), RigeModel.score(x_train_pr, y_train)\n",
    "    pbar.set_postfix({\"Test Score\": test_score, \"Train Score\": train_score})\n",
    "    Rsqu_test.append(test_score)\n",
    "    Rsqu_train.append(train_score)"
   ]
  },
  {
   "cell_type": "code",
   "execution_count": 43,
   "id": "39fabe40",
   "metadata": {},
   "outputs": [
    {
     "data": {
      "text/plain": [
       "<matplotlib.legend.Legend at 0x7f9f3844a6d0>"
      ]
     },
     "execution_count": 43,
     "metadata": {},
     "output_type": "execute_result"
    },
    {
     "data": {
      "image/png": "[encoded data removed]",
      "text/plain": [
       "<Figure size 1000x600 with 1 Axes>"
      ]
     },
     "metadata": {},
     "output_type": "display_data"
    }
   ],
   "source": [
    "plt.figure(figsize=(10, 6))  \n",
    "plt.plot(Alpha, Rsqu_test, label='validation data')\n",
    "plt.plot(Alpha, Rsqu_train, 'r', label='training Data')\n",
    "plt.xlabel('alpha')\n",
    "plt.ylabel('R^2')\n",
    "plt.ylim(0, 1)\n",
    "plt.legend()"
   ]
  },
  {
   "cell_type": "markdown",
   "id": "d44a348c",
   "metadata": {},
   "source": [
    "# Grid Search\n",
    "\n",
    "1. Using the raw data and the same set of features as used above, use GridSearchCV to identify the value of alpha for which the model performs best. Assume the set of alpha values to be used as\n",
    "```math\n",
    "{0.0001, 0.001, 0.01, 0.1, 1, 10}\n",
    "```\n",
    "\n",
    "2. Create a Ridge instance and run Grid Search using a 4 fold cross validation.\n",
    "3. Fit the Grid Search to the training data.\n",
    "4. Print the R^2 score for the test data using the estimator that uses the derived optimum value of alpha."
   ]
  },
  {
   "cell_type": "code",
   "execution_count": 45,
   "id": "41ed95bb",
   "metadata": {},
   "outputs": [],
   "source": [
    "# 1. Use GridSearchCV to identify the value of alpha for which the model performs best. \n",
    "#    Assume the set of alpha values to be used as {0.0001, 0.001, 0.01, 0.1, 1, 10}\n",
    "\n",
    "parameters1= [{'alpha': [0.0001, 0.001, 0.01, 0.1, 1, 10]}]\n"
   ]
  },
  {
   "cell_type": "code",
   "execution_count": 48,
   "id": "efc16090",
   "metadata": {},
   "outputs": [
    {
     "data": {
      "text/plain": [
       "GridSearchCV(cv=4, estimator=Ridge(),\n",
       "             param_grid=[{'alpha': [0.0001, 0.001, 0.01, 0.1, 1, 10]}])"
      ]
     },
     "execution_count": 48,
     "metadata": {},
     "output_type": "execute_result"
    }
   ],
   "source": [
    "# 2. Create a Ridge instance and run Grid Search using a 4 fold cross validation.\n",
    "\n",
    "RR=Ridge()\n",
    "Grid1 = GridSearchCV(RR, parameters1,cv=4)\n",
    "\n",
    "# 3. Fit the Grid Search to the training data.\n",
    "\n",
    "Grid1.fit(x_train[['CPU_frequency', 'RAM_GB', 'Storage_GB_SSD', 'CPU_core',\n",
    "                    'OS','GPU', 'Category']], y_train)"
   ]
  },
  {
   "cell_type": "code",
   "execution_count": 54,
   "id": "8f91d01d",
   "metadata": {},
   "outputs": [
    {
     "name": "stdout",
     "output_type": "stream",
     "text": [
      "0.300990504869182\n"
     ]
    }
   ],
   "source": [
    "# 4. Print the R^2 score for the test data using the \n",
    "#    estimator that uses the derived optimum value of alpha.\n",
    "\n",
    "BestRR=Grid1.best_estimator_\n",
    "print(BestRR.score(x_test[['CPU_frequency', 'RAM_GB', 'Storage_GB_SSD', \n",
    "                           'CPU_core','OS','GPU','Category']], y_test))"
   ]
  },
  {
   "cell_type": "code",
   "execution_count": null,
   "id": "990fe08d",
   "metadata": {},
   "outputs": [],
   "source": []
  },
  {
   "cell_type": "code",
   "execution_count": null,
   "id": "e8c42e53",
   "metadata": {},
   "outputs": [],
   "source": []
  }
 ],
 "metadata": {
  "kernelspec": {
   "display_name": "Python 3 (ipykernel)",
   "language": "python",
   "name": "python3"
  },
  "language_info": {
   "codemirror_mode": {
    "name": "ipython",
    "version": 3
   },
   "file_extension": ".py",
   "mimetype": "text/x-python",
   "name": "python",
   "nbconvert_exporter": "python",
   "pygments_lexer": "ipython3",
   "version": "3.9.13"
  }
 },
 "nbformat": 4,
 "nbformat_minor": 5
}
