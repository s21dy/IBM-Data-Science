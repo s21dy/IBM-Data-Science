{
 "cells": [
  {
   "cell_type": "markdown",
   "id": "322a94ea",
   "metadata": {},
   "source": [
    "# Languages of Data Science"
   ]
  },
  {
   "cell_type": "markdown",
   "id": "753638a9",
   "metadata": {},
   "source": [
    "## Python\n",
    "\n",
    "### Users of Python\n",
    "- Python is the most widely used and popular programming language in the data science industry.\n",
    "- According to surveys, over 75% of data science positions list Python as a required skill.\n",
    "- Python is used by both experienced programmers and beginners due to its clear and readable syntax.\n",
    "\n",
    "### Benefits of Python\n",
    "- Python has a large standard library that provides tools for a wide range of tasks, including data science, AI, web development, and more.\n",
    "- For data science, Python offers powerful scientific computing libraries like Pandas, NumPy, SciPy, and Matplotlib.\n",
    "- Python can also be used for natural language processing (NLP) using the NLTK (Natural Language Toolkit) library.\n",
    "\n",
    "### Diversity and Inclusion in the Python Community\n",
    "- The Python community has a well-documented history of promoting diversity and inclusion efforts in the tech industry.\n",
    "- The Python Software Foundation has a code of conduct to ensure safety and inclusion for all in the Python community.\n",
    "- Organizations like PyLadies focus on creating safe and inclusive environments for women to learn and participate in the Python open-source community."
   ]
  },
  {
   "cell_type": "markdown",
   "id": "c4fd36bc",
   "metadata": {},
   "source": [
    "## R\n",
    "\n",
    "### Benefits of Using R\n",
    "- R is widely used by statisticians, mathematicians, and data miners for statistical software, graphing, and data analysis.\n",
    "- R has an array-oriented syntax that makes it easier for learners with no or minimal programming background to translate mathematical concepts into code.\n",
    "- R integrates well with other computer languages like C++, Java, C, .Net, and Python.\n",
    "- R has a strong repository of statistical knowledge, with over 15,000 publicly released packages.\n",
    "- The Open-Source Initiative (OSI) champions open source, while the Free Software Foundation (FSF) defines free software. Python is open source, and R is free software. \n",
    "\n",
    "### Global Communities for Connecting with Other R Users\n",
    "- There are several global communities for connecting with other R users, including useR, WhyR, SatRdays, and R-ladies.\n",
    "- The R project website also lists R conferences and events."
   ]
  },
  {
   "cell_type": "markdown",
   "id": "1e7f150d",
   "metadata": {},
   "source": [
    "## SQL (Structured Query Language)\n",
    "\n",
    "### What is SQL?\n",
    "- SQL is a language used for querying and managing data in relational databases.\n",
    "- SQL is a non-procedural language, unlike other software development languages.\n",
    "- SQL is older than Python and R by about 20 years, first appearing in 1974 and developed at IBM.\n",
    "\n",
    "### Relational Databases\n",
    "- SQL was designed for managing data in relational databases, which are formed by collections of two-dimensional tables.\n",
    "- Each table has a fixed number of columns and any possible number of rows.\n",
    "- Although SQL was originally developed for relational databases, it has also been adapted for use with NoSQL and big data repositories.\n",
    "\n",
    "### SQL Language Elements\n",
    "- The SQL language is subdivided into several elements, including Clauses, Expressions, Predicates, Queries, and Statements.\n",
    "\n",
    "### Benefits of Learning SQL\n",
    "- Knowing SQL can help you get various jobs in data science, such as business and data analysis, as well as data engineering.\n",
    "- SQL allows direct access to data without the need to copy it separately, which can speed up workflow executions.\n",
    "- SQL is an ANSI (American National Standards Institute) standard, meaning you can apply your SQL knowledge to many different database systems.\n",
    "- There are many SQL database options available, including MySQL, PostgreSQL, Oracle, and Microsoft SQL Server."
   ]
  },
  {
   "cell_type": "markdown",
   "id": "0ae4303a",
   "metadata": {},
   "source": [
    "## Other Languages for Data Science\n",
    "\n",
    "### Java:\n",
    "- General-purpose object-oriented programming language.\n",
    "- Designed to be fast and scalable.\n",
    "- Compiled to bytecode and runs on the Java Virtual Machine (JVM).\n",
    "- Notable data science tools built with Java include Weka, Java-ML, Apache MLlib, and Deeplearning4.\n",
    "- Hadoop is another application of Java, managing data processing and storage for big data applications.\n",
    "\n",
    "### Scala:\n",
    "- General-purpose programming language with support for functional programming and a strong static type system.\n",
    "- Designed to address the shortcomings of Java.\n",
    "- Interoperable with Java, running on the JVM.\n",
    "- The most popular data science program built with Scala is Apache Spark, which includes Shark, MLlib, GraphX, and Spark Streaming.\n",
    "\n",
    "### C++:\n",
    "- General-purpose programming language that improves processing speed and provides broader control over software applications.\n",
    "- Many organizations use C++ for real-time data feeding to customers.\n",
    "- TensorFlow is a popular deep learning library built with C++.\n",
    "- MongoDB is a NoSQL database for big data management built with C++.\n",
    "- Caffe is a deep learning algorithm repository built with C++ with Python and Matlab bindings.\n",
    "\n",
    "### JavaScript:\n",
    "- General-purpose language that extended beyond the browser with Node.js and other server-side approaches.\n",
    "- Not related to the Java language.\n",
    "- TensorFlow.js is a popular implementation for machine learning and deep learning in Node.js and the browser.\n",
    "- R-js is another implementation for data science, re-writing linear algebra specifications from the R Language into TypeScript.\n",
    "\n",
    "### Julia:\n",
    "- Designed at MIT for high-performance numerical analysis and computational science.\n",
    "- Provides speedy development like Python or R, while producing programs that run as fast as C or Fortran programs.\n",
    "- Compiled, executing directly on the processor as executable code.\n",
    "- Calls C, Go, Java, MATLAB, R, Fortran, and Python libraries.\n",
    "- Has refined parallelism.\n",
    "- JuliaDB is a package for working with large persistent data sets, one great application of Julia for data science."
   ]
  },
  {
   "cell_type": "code",
   "execution_count": null,
   "id": "6437617f",
   "metadata": {},
   "outputs": [],
   "source": []
  }
 ],
 "metadata": {
  "kernelspec": {
   "display_name": "Python 3 (ipykernel)",
   "language": "python",
   "name": "python3"
  },
  "language_info": {
   "codemirror_mode": {
    "name": "ipython",
    "version": 3
   },
   "file_extension": ".py",
   "mimetype": "text/x-python",
   "name": "python",
   "nbconvert_exporter": "python",
   "pygments_lexer": "ipython3",
   "version": "3.9.13"
  }
 },
 "nbformat": 4,
 "nbformat_minor": 5
}
